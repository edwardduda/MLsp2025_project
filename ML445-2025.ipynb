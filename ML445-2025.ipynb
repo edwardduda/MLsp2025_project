{
 "cells": [
  {
   "cell_type": "markdown",
   "metadata": {},
   "source": [
    "# Edward and Mack Final Assignment Machine Learning 445 "
   ]
  },
  {
   "cell_type": "code",
   "execution_count": 2,
   "metadata": {},
   "outputs": [
    {
     "name": "stdout",
     "output_type": "stream",
     "text": [
      "Defaulting to user installation because normal site-packages is not writeable\n",
      "Requirement already satisfied: bayesian-optimization in /Users/mackianni/Library/Python/3.10/lib/python/site-packages (2.0.3)\n",
      "Requirement already satisfied: torch in /Users/mackianni/Library/Python/3.10/lib/python/site-packages (2.7.0)\n",
      "Requirement already satisfied: torchvision in /Users/mackianni/Library/Python/3.10/lib/python/site-packages (0.22.0)\n",
      "Requirement already satisfied: pandas in /Users/mackianni/Library/Python/3.10/lib/python/site-packages (2.2.3)\n",
      "Requirement already satisfied: seaborn in /Users/mackianni/Library/Python/3.10/lib/python/site-packages (0.13.2)\n",
      "Requirement already satisfied: matplotlib in /Library/Frameworks/Python.framework/Versions/3.10/lib/python3.10/site-packages (3.8.2)\n",
      "Requirement already satisfied: scikit-learn in /Users/mackianni/Library/Python/3.10/lib/python/site-packages (1.6.1)\n",
      "Requirement already satisfied: colorama<0.5.0,>=0.4.6 in /Users/mackianni/Library/Python/3.10/lib/python/site-packages (from bayesian-optimization) (0.4.6)\n",
      "Requirement already satisfied: numpy>=1.25 in /Users/mackianni/Library/Python/3.10/lib/python/site-packages (from bayesian-optimization) (1.26.4)\n",
      "Requirement already satisfied: scipy<2.0.0,>=1.0.0 in /Library/Frameworks/Python.framework/Versions/3.10/lib/python3.10/site-packages (from bayesian-optimization) (1.12.0)\n",
      "Requirement already satisfied: filelock in /Users/mackianni/Library/Python/3.10/lib/python/site-packages (from torch) (3.18.0)\n",
      "Requirement already satisfied: typing-extensions>=4.10.0 in /Users/mackianni/Library/Python/3.10/lib/python/site-packages (from torch) (4.13.2)\n",
      "Requirement already satisfied: sympy>=1.13.3 in /Users/mackianni/Library/Python/3.10/lib/python/site-packages (from torch) (1.13.3)\n",
      "Requirement already satisfied: networkx in /Library/Frameworks/Python.framework/Versions/3.10/lib/python3.10/site-packages (from torch) (3.2.1)\n",
      "Requirement already satisfied: jinja2 in /Users/mackianni/Library/Python/3.10/lib/python/site-packages (from torch) (3.1.6)\n",
      "Requirement already satisfied: fsspec in /Users/mackianni/Library/Python/3.10/lib/python/site-packages (from torch) (2025.3.2)\n",
      "Requirement already satisfied: pillow!=8.3.*,>=5.3.0 in /Library/Frameworks/Python.framework/Versions/3.10/lib/python3.10/site-packages (from torchvision) (10.2.0)\n",
      "Requirement already satisfied: python-dateutil>=2.8.2 in /Users/mackianni/Library/Python/3.10/lib/python/site-packages (from pandas) (2.9.0.post0)\n",
      "Requirement already satisfied: pytz>=2020.1 in /Users/mackianni/Library/Python/3.10/lib/python/site-packages (from pandas) (2025.1)\n",
      "Requirement already satisfied: tzdata>=2022.7 in /Users/mackianni/Library/Python/3.10/lib/python/site-packages (from pandas) (2025.1)\n",
      "Requirement already satisfied: contourpy>=1.0.1 in /Library/Frameworks/Python.framework/Versions/3.10/lib/python3.10/site-packages (from matplotlib) (1.2.0)\n",
      "Requirement already satisfied: cycler>=0.10 in /Library/Frameworks/Python.framework/Versions/3.10/lib/python3.10/site-packages (from matplotlib) (0.12.1)\n",
      "Requirement already satisfied: fonttools>=4.22.0 in /Library/Frameworks/Python.framework/Versions/3.10/lib/python3.10/site-packages (from matplotlib) (4.47.2)\n",
      "Requirement already satisfied: kiwisolver>=1.3.1 in /Library/Frameworks/Python.framework/Versions/3.10/lib/python3.10/site-packages (from matplotlib) (1.4.5)\n",
      "Requirement already satisfied: packaging>=20.0 in /Library/Frameworks/Python.framework/Versions/3.10/lib/python3.10/site-packages (from matplotlib) (23.2)\n",
      "Requirement already satisfied: pyparsing>=2.3.1 in /Library/Frameworks/Python.framework/Versions/3.10/lib/python3.10/site-packages (from matplotlib) (3.1.1)\n",
      "Requirement already satisfied: joblib>=1.2.0 in /Users/mackianni/Library/Python/3.10/lib/python/site-packages (from scikit-learn) (1.4.2)\n",
      "Requirement already satisfied: threadpoolctl>=3.1.0 in /Users/mackianni/Library/Python/3.10/lib/python/site-packages (from scikit-learn) (3.5.0)\n",
      "Requirement already satisfied: six>=1.5 in /Users/mackianni/Library/Python/3.10/lib/python/site-packages (from python-dateutil>=2.8.2->pandas) (1.17.0)\n",
      "Requirement already satisfied: mpmath<1.4,>=1.1.0 in /Users/mackianni/Library/Python/3.10/lib/python/site-packages (from sympy>=1.13.3->torch) (1.3.0)\n",
      "Requirement already satisfied: MarkupSafe>=2.0 in /Users/mackianni/Library/Python/3.10/lib/python/site-packages (from jinja2->torch) (3.0.2)\n",
      "Note: you may need to restart the kernel to use updated packages.\n"
     ]
    }
   ],
   "source": [
    "%pip install bayesian-optimization torch torchvision pandas seaborn matplotlib scikit-learn"
   ]
  },
  {
   "cell_type": "code",
   "execution_count": 1,
   "metadata": {},
   "outputs": [
    {
     "name": "stdout",
     "output_type": "stream",
     "text": [
      "Using device: mps\n"
     ]
    }
   ],
   "source": [
    "import torch\n",
    "import torch.nn as nn\n",
    "import torch.optim as optim\n",
    "import torchvision\n",
    "import torchvision.transforms as transforms\n",
    "from bayes_opt import BayesianOptimization as bo\n",
    "import pandas as pd\n",
    "import seaborn as sns\n",
    "import time\n",
    "from sklearn.metrics import confusion_matrix\n",
    "import torch.nn.functional as F\n",
    "import matplotlib.pyplot as plt\n",
    "from torch.utils.data import DataLoader\n",
    "import psutil\n",
    "import os\n",
    "\n",
    "device = torch.device('mps' if torch.mps.is_available() else 'cpu')\n",
    "print(\"Using device:\", device)\n",
    "\n",
    "#os.environ['CUDA_LAUNCH_BLOCKING'] = \"1\"\n"
   ]
  }
 ],
 "metadata": {
  "kernelspec": {
   "display_name": "Python 3",
   "language": "python",
   "name": "python3"
  },
  "language_info": {
   "codemirror_mode": {
    "name": "ipython",
    "version": 3
   },
   "file_extension": ".py",
   "mimetype": "text/x-python",
   "name": "python",
   "nbconvert_exporter": "python",
   "pygments_lexer": "ipython3",
   "version": "3.10.11"
  },
  "orig_nbformat": 4
 },
 "nbformat": 4,
 "nbformat_minor": 2
}
