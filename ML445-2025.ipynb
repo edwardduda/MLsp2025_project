{
 "cells": [
  {
   "cell_type": "markdown",
   "metadata": {},
   "source": [
    "# Edward and Mack Final Assignment Machine Learning 445 "
   ]
  },
  {
   "cell_type": "code",
   "execution_count": 20,
   "metadata": {},
   "outputs": [
    {
     "name": "stdout",
     "output_type": "stream",
     "text": [
      "Defaulting to user installation because normal site-packages is not writeable\n",
      "Requirement already satisfied: bayesian-optimization in /Users/mackianni/Library/Python/3.10/lib/python/site-packages (2.0.3)\n",
      "Requirement already satisfied: torch in /Users/mackianni/Library/Python/3.10/lib/python/site-packages (2.7.0)\n",
      "Requirement already satisfied: torchvision in /Users/mackianni/Library/Python/3.10/lib/python/site-packages (0.22.0)\n",
      "Requirement already satisfied: pandas in /Users/mackianni/Library/Python/3.10/lib/python/site-packages (2.2.3)\n",
      "Requirement already satisfied: seaborn in /Users/mackianni/Library/Python/3.10/lib/python/site-packages (0.13.2)\n",
      "Requirement already satisfied: matplotlib in /Library/Frameworks/Python.framework/Versions/3.10/lib/python3.10/site-packages (3.8.2)\n",
      "Requirement already satisfied: scikit-learn in /Users/mackianni/Library/Python/3.10/lib/python/site-packages (1.6.1)\n",
      "Requirement already satisfied: colorama<0.5.0,>=0.4.6 in /Users/mackianni/Library/Python/3.10/lib/python/site-packages (from bayesian-optimization) (0.4.6)\n",
      "Requirement already satisfied: numpy>=1.25 in /Users/mackianni/Library/Python/3.10/lib/python/site-packages (from bayesian-optimization) (1.26.4)\n",
      "Requirement already satisfied: scipy<2.0.0,>=1.0.0 in /Library/Frameworks/Python.framework/Versions/3.10/lib/python3.10/site-packages (from bayesian-optimization) (1.12.0)\n",
      "Requirement already satisfied: filelock in /Users/mackianni/Library/Python/3.10/lib/python/site-packages (from torch) (3.18.0)\n",
      "Requirement already satisfied: typing-extensions>=4.10.0 in /Users/mackianni/Library/Python/3.10/lib/python/site-packages (from torch) (4.13.2)\n",
      "Requirement already satisfied: sympy>=1.13.3 in /Users/mackianni/Library/Python/3.10/lib/python/site-packages (from torch) (1.13.3)\n",
      "Requirement already satisfied: networkx in /Library/Frameworks/Python.framework/Versions/3.10/lib/python3.10/site-packages (from torch) (3.2.1)\n",
      "Requirement already satisfied: jinja2 in /Users/mackianni/Library/Python/3.10/lib/python/site-packages (from torch) (3.1.6)\n",
      "Requirement already satisfied: fsspec in /Users/mackianni/Library/Python/3.10/lib/python/site-packages (from torch) (2024.12.0)\n",
      "Requirement already satisfied: pillow!=8.3.*,>=5.3.0 in /Library/Frameworks/Python.framework/Versions/3.10/lib/python3.10/site-packages (from torchvision) (10.2.0)\n",
      "Requirement already satisfied: python-dateutil>=2.8.2 in /Users/mackianni/Library/Python/3.10/lib/python/site-packages (from pandas) (2.9.0.post0)\n",
      "Requirement already satisfied: pytz>=2020.1 in /Users/mackianni/Library/Python/3.10/lib/python/site-packages (from pandas) (2025.1)\n",
      "Requirement already satisfied: tzdata>=2022.7 in /Users/mackianni/Library/Python/3.10/lib/python/site-packages (from pandas) (2025.1)\n",
      "Requirement already satisfied: contourpy>=1.0.1 in /Library/Frameworks/Python.framework/Versions/3.10/lib/python3.10/site-packages (from matplotlib) (1.2.0)\n",
      "Requirement already satisfied: cycler>=0.10 in /Library/Frameworks/Python.framework/Versions/3.10/lib/python3.10/site-packages (from matplotlib) (0.12.1)\n",
      "Requirement already satisfied: fonttools>=4.22.0 in /Library/Frameworks/Python.framework/Versions/3.10/lib/python3.10/site-packages (from matplotlib) (4.47.2)\n",
      "Requirement already satisfied: kiwisolver>=1.3.1 in /Library/Frameworks/Python.framework/Versions/3.10/lib/python3.10/site-packages (from matplotlib) (1.4.5)\n",
      "Requirement already satisfied: packaging>=20.0 in /Library/Frameworks/Python.framework/Versions/3.10/lib/python3.10/site-packages (from matplotlib) (23.2)\n",
      "Requirement already satisfied: pyparsing>=2.3.1 in /Library/Frameworks/Python.framework/Versions/3.10/lib/python3.10/site-packages (from matplotlib) (3.1.1)\n",
      "Requirement already satisfied: joblib>=1.2.0 in /Users/mackianni/Library/Python/3.10/lib/python/site-packages (from scikit-learn) (1.4.2)\n",
      "Requirement already satisfied: threadpoolctl>=3.1.0 in /Users/mackianni/Library/Python/3.10/lib/python/site-packages (from scikit-learn) (3.5.0)\n",
      "Requirement already satisfied: six>=1.5 in /Users/mackianni/Library/Python/3.10/lib/python/site-packages (from python-dateutil>=2.8.2->pandas) (1.17.0)\n",
      "Requirement already satisfied: mpmath<1.4,>=1.1.0 in /Users/mackianni/Library/Python/3.10/lib/python/site-packages (from sympy>=1.13.3->torch) (1.3.0)\n",
      "Requirement already satisfied: MarkupSafe>=2.0 in /Users/mackianni/Library/Python/3.10/lib/python/site-packages (from jinja2->torch) (3.0.2)\n",
      "Note: you may need to restart the kernel to use updated packages.\n"
     ]
    }
   ],
   "source": [
    "%pip install bayesian-optimization torch torchvision pandas seaborn matplotlib scikit-learn"
   ]
  },
  {
   "cell_type": "code",
   "execution_count": 21,
   "metadata": {},
   "outputs": [
    {
     "name": "stdout",
     "output_type": "stream",
     "text": [
      "Using device: mps\n"
     ]
    }
   ],
   "source": [
    "import torch\n",
    "import torch.nn as nn\n",
    "import torch.optim as optim\n",
    "import torchvision\n",
    "import torchvision.transforms as transforms\n",
    "from bayes_opt import BayesianOptimization as bo\n",
    "import pandas as pd\n",
    "import seaborn as sns\n",
    "import time\n",
    "from sklearn.metrics import confusion_matrix\n",
    "import torch.nn.functional as F\n",
    "import matplotlib.pyplot as plt\n",
    "from torch.utils.data import DataLoader\n",
    "import psutil\n",
    "import os\n",
    "\n",
    "device = torch.device('mps' if torch.mps.is_available() else 'cpu')\n",
    "print(\"Using device:\", device)\n",
    "\n",
    "#os.environ['CUDA_LAUNCH_BLOCKING'] = \"1\"\n"
   ]
  },
  {
   "cell_type": "code",
   "execution_count": 3,
   "metadata": {},
   "outputs": [
    {
     "name": "stdout",
     "output_type": "stream",
     "text": [
      "Defaulting to user installation because normal site-packages is not writeable\n",
      "Requirement already satisfied: pillow in /Library/Frameworks/Python.framework/Versions/3.10/lib/python3.10/site-packages (10.2.0)\n",
      "Collecting datasets[vision]\n",
      "  Downloading datasets-3.5.0-py3-none-any.whl.metadata (19 kB)\n",
      "Requirement already satisfied: filelock in /Users/mackianni/Library/Python/3.10/lib/python/site-packages (from datasets[vision]) (3.18.0)\n",
      "Requirement already satisfied: numpy>=1.17 in /Users/mackianni/Library/Python/3.10/lib/python/site-packages (from datasets[vision]) (1.26.4)\n",
      "Collecting pyarrow>=15.0.0 (from datasets[vision])\n",
      "  Downloading pyarrow-19.0.1-cp310-cp310-macosx_12_0_arm64.whl.metadata (3.3 kB)\n",
      "Collecting dill<0.3.9,>=0.3.0 (from datasets[vision])\n",
      "  Downloading dill-0.3.8-py3-none-any.whl.metadata (10 kB)\n",
      "Requirement already satisfied: pandas in /Users/mackianni/Library/Python/3.10/lib/python/site-packages (from datasets[vision]) (2.2.3)\n",
      "Requirement already satisfied: requests>=2.32.2 in /Users/mackianni/Library/Python/3.10/lib/python/site-packages (from datasets[vision]) (2.32.3)\n",
      "Requirement already satisfied: tqdm>=4.66.3 in /Users/mackianni/Library/Python/3.10/lib/python/site-packages (from datasets[vision]) (4.67.1)\n",
      "Collecting xxhash (from datasets[vision])\n",
      "  Downloading xxhash-3.5.0-cp310-cp310-macosx_11_0_arm64.whl.metadata (12 kB)\n",
      "Collecting multiprocess<0.70.17 (from datasets[vision])\n",
      "  Downloading multiprocess-0.70.16-py310-none-any.whl.metadata (7.2 kB)\n",
      "Collecting fsspec<=2024.12.0,>=2023.1.0 (from fsspec[http]<=2024.12.0,>=2023.1.0->datasets[vision])\n",
      "  Downloading fsspec-2024.12.0-py3-none-any.whl.metadata (11 kB)\n",
      "Requirement already satisfied: aiohttp in /Library/Frameworks/Python.framework/Versions/3.10/lib/python3.10/site-packages (from datasets[vision]) (3.8.4)\n",
      "Requirement already satisfied: huggingface-hub>=0.24.0 in /Users/mackianni/Library/Python/3.10/lib/python/site-packages (from datasets[vision]) (0.30.2)\n",
      "Requirement already satisfied: packaging in /Library/Frameworks/Python.framework/Versions/3.10/lib/python3.10/site-packages (from datasets[vision]) (23.2)\n",
      "Requirement already satisfied: pyyaml>=5.1 in /Library/Frameworks/Python.framework/Versions/3.10/lib/python3.10/site-packages (from datasets[vision]) (6.0.1)\n",
      "Requirement already satisfied: attrs>=17.3.0 in /Library/Frameworks/Python.framework/Versions/3.10/lib/python3.10/site-packages (from aiohttp->datasets[vision]) (23.1.0)\n",
      "Requirement already satisfied: charset-normalizer<4.0,>=2.0 in /Users/mackianni/Library/Python/3.10/lib/python/site-packages (from aiohttp->datasets[vision]) (3.4.1)\n",
      "Requirement already satisfied: multidict<7.0,>=4.5 in /Library/Frameworks/Python.framework/Versions/3.10/lib/python3.10/site-packages (from aiohttp->datasets[vision]) (6.0.4)\n",
      "Requirement already satisfied: async-timeout<5.0,>=4.0.0a3 in /Library/Frameworks/Python.framework/Versions/3.10/lib/python3.10/site-packages (from aiohttp->datasets[vision]) (4.0.2)\n",
      "Requirement already satisfied: yarl<2.0,>=1.0 in /Library/Frameworks/Python.framework/Versions/3.10/lib/python3.10/site-packages (from aiohttp->datasets[vision]) (1.9.2)\n",
      "Requirement already satisfied: frozenlist>=1.1.1 in /Library/Frameworks/Python.framework/Versions/3.10/lib/python3.10/site-packages (from aiohttp->datasets[vision]) (1.3.3)\n",
      "Requirement already satisfied: aiosignal>=1.1.2 in /Library/Frameworks/Python.framework/Versions/3.10/lib/python3.10/site-packages (from aiohttp->datasets[vision]) (1.3.1)\n",
      "Requirement already satisfied: typing-extensions>=3.7.4.3 in /Users/mackianni/Library/Python/3.10/lib/python/site-packages (from huggingface-hub>=0.24.0->datasets[vision]) (4.13.2)\n",
      "Requirement already satisfied: idna<4,>=2.5 in /Users/mackianni/Library/Python/3.10/lib/python/site-packages (from requests>=2.32.2->datasets[vision]) (3.10)\n",
      "Requirement already satisfied: urllib3<3,>=1.21.1 in /Users/mackianni/Library/Python/3.10/lib/python/site-packages (from requests>=2.32.2->datasets[vision]) (2.3.0)\n",
      "Requirement already satisfied: certifi>=2017.4.17 in /Users/mackianni/Library/Python/3.10/lib/python/site-packages (from requests>=2.32.2->datasets[vision]) (2025.1.31)\n",
      "Requirement already satisfied: python-dateutil>=2.8.2 in /Users/mackianni/Library/Python/3.10/lib/python/site-packages (from pandas->datasets[vision]) (2.9.0.post0)\n",
      "Requirement already satisfied: pytz>=2020.1 in /Users/mackianni/Library/Python/3.10/lib/python/site-packages (from pandas->datasets[vision]) (2025.1)\n",
      "Requirement already satisfied: tzdata>=2022.7 in /Users/mackianni/Library/Python/3.10/lib/python/site-packages (from pandas->datasets[vision]) (2025.1)\n",
      "Requirement already satisfied: six>=1.5 in /Users/mackianni/Library/Python/3.10/lib/python/site-packages (from python-dateutil>=2.8.2->pandas->datasets[vision]) (1.17.0)\n",
      "Downloading dill-0.3.8-py3-none-any.whl (116 kB)\n",
      "Downloading fsspec-2024.12.0-py3-none-any.whl (183 kB)\n",
      "Downloading multiprocess-0.70.16-py310-none-any.whl (134 kB)\n",
      "Downloading pyarrow-19.0.1-cp310-cp310-macosx_12_0_arm64.whl (30.7 MB)\n",
      "\u001b[2K   \u001b[90m━━━━━━━━━━━━━━━━━━━━━━━━━━━━━━━━━━━━━━━━\u001b[0m \u001b[32m30.7/30.7 MB\u001b[0m \u001b[31m7.0 MB/s\u001b[0m eta \u001b[36m0:00:00\u001b[0m00:01\u001b[0m00:01\u001b[0m\n",
      "\u001b[?25hDownloading datasets-3.5.0-py3-none-any.whl (491 kB)\n",
      "Downloading xxhash-3.5.0-cp310-cp310-macosx_11_0_arm64.whl (30 kB)\n",
      "Installing collected packages: xxhash, pyarrow, fsspec, dill, multiprocess, datasets\n",
      "  Attempting uninstall: fsspec\n",
      "    Found existing installation: fsspec 2025.3.2\n",
      "    Uninstalling fsspec-2025.3.2:\n",
      "      Successfully uninstalled fsspec-2025.3.2\n",
      "Successfully installed datasets-3.5.0 dill-0.3.8 fsspec-2024.12.0 multiprocess-0.70.16 pyarrow-19.0.1 xxhash-3.5.0\n",
      "Note: you may need to restart the kernel to use updated packages.\n"
     ]
    }
   ],
   "source": [
    "pip install \"datasets[vision]\" pillow  # CPU-only wheel; add 'torch' separately\n"
   ]
  },
  {
   "cell_type": "code",
   "execution_count": 25,
   "metadata": {},
   "outputs": [
    {
     "name": "stdout",
     "output_type": "stream",
     "text": [
      "90000 10000 10000\n"
     ]
    }
   ],
   "source": [
    "from datasets import load_dataset\n",
    "import sklearn \n",
    "from sklearn.model_selection import train_test_split\n",
    "import torchvision.transforms as T\n",
    "\n",
    "from datasets import load_dataset\n",
    "\n",
    "ds = load_dataset(\"zh-plus/tiny-imagenet\")\n",
    "test_set  = ds[\"valid\"]                      # final test set (10 k)\n",
    "\n",
    "# Split the 100 k training images into 90 k train / 10 k val\n",
    "splits = ds[\"train\"].train_test_split(test_size=0.10, seed=42, stratify_by_column=\"label\")\n",
    "\n",
    "train_set  = splits[\"train\"]\n",
    "val_set    = splits[\"test\"]\n",
    "\n",
    "print(len(train_set), len(val_set), len(test_set))  # 90000 10000 10000\n",
    "\n",
    "\n",
    "normalize = T.Normalize(mean=0.485, 0.456, 0.406),\n",
    "                        std = (0.229, 0.224, 0.225)\n",
    "\n",
    "train_tfms = T.Compose([\n",
    "    T.RandomResizedCrop(64, scale=(0.8, 1.0), ratio=(0.9, 1.1)), \n",
    "    T.RandomHorizontalFlip(),\n",
    "    T.ToTensor(),\n",
    "    T.Normalize(mean=(0.485, 0.456, 0.406),\n",
    "                std =(0.229, 0.224, 0.225)),\n",
    "])\n",
    "\n",
    "eval_tfms = T.Compose([\n",
    "    T.Resize(64),          \n",
    "    T.CenterCrop(64),      \n",
    "    T.ToTensor(),\n",
    "    T.Normalize(mean=(0.485, 0.456, 0.406),\n",
    "                std =(0.229, 0.224, 0.225)),\n",
    "])"
   ]
  },
  {
   "cell_type": "markdown",
   "metadata": {},
   "source": [
    "# DataLoaders"
   ]
  },
  {
   "cell_type": "code",
   "execution_count": null,
   "metadata": {},
   "outputs": [],
   "source": []
  }
 ],
 "metadata": {
  "kernelspec": {
   "display_name": "Python 3",
   "language": "python",
   "name": "python3"
  },
  "language_info": {
   "codemirror_mode": {
    "name": "ipython",
    "version": 3
   },
   "file_extension": ".py",
   "mimetype": "text/x-python",
   "name": "python",
   "nbconvert_exporter": "python",
   "pygments_lexer": "ipython3",
   "version": "3.10.11"
  },
  "orig_nbformat": 4
 },
 "nbformat": 4,
 "nbformat_minor": 2
}
